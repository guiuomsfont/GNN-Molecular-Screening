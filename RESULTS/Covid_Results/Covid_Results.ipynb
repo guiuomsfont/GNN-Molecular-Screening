{
 "cells": [
  {
   "cell_type": "code",
   "execution_count": 1,
   "id": "related-bibliography",
   "metadata": {},
   "outputs": [
    {
     "name": "stdout",
     "output_type": "stream",
     "text": [
      "                NAME      PRED\n",
      "0       6VXX_9797919  0.170964\n",
      "1          6VSB_5749  0.103019\n",
      "2       6VXX_5288784  0.881401\n",
      "3       6VSB_5288795  0.000005\n",
      "4         6VXX_36910  0.467432\n",
      "...              ...       ...\n",
      "33391   6VXX_5289374  0.000000\n",
      "33392    6VXX_763808  0.473344\n",
      "33393  6VSB_12000797  0.028018\n",
      "33394      6M71_4238  0.156461\n",
      "33395      6VSB_7950  0.255449\n",
      "\n",
      "[33396 rows x 2 columns]\n",
      "                NAME           PRED\n",
      "0       6VXX_9797919  365310.881432\n",
      "1          6VSB_5749  818506.813392\n",
      "2       6VXX_5288784       9.076832\n",
      "3       6VSB_5288795  407754.680800\n",
      "4         6VXX_36910  917224.003469\n",
      "...              ...            ...\n",
      "33391   6VXX_5289374   12920.571369\n",
      "33392    6VXX_763808  320220.788205\n",
      "33393  6VSB_12000797  900251.096945\n",
      "33394      6M71_4238    2385.442689\n",
      "33395      6VSB_7950    7476.522078\n",
      "\n",
      "[33396 rows x 2 columns]\n",
      "                NAME      PRED\n",
      "0          6LU7_1051  0.282612\n",
      "1         6LU7_91443  0.985706\n",
      "2          6LU7_6274  0.988602\n",
      "3         6LU7_34755  0.935613\n",
      "4          6LU7_1060  0.386867\n",
      "...              ...       ...\n",
      "33390  6M71_10176265  0.600445\n",
      "33391       6M71_175  0.704198\n",
      "33392    6M71_441336  0.339325\n",
      "33393       6M71_961  0.620214\n",
      "33394      6M71_1061  0.730947\n",
      "\n",
      "[33395 rows x 2 columns]\n",
      "                NAME         PRED\n",
      "0          6LU7_1051   162.913714\n",
      "1         6LU7_91443     2.352969\n",
      "2          6LU7_6274    61.938856\n",
      "3         6LU7_34755    40.899936\n",
      "4          6LU7_1060  7168.509271\n",
      "...              ...          ...\n",
      "33390  6M71_10176265   208.063516\n",
      "33391       6M71_175  2025.409740\n",
      "33392    6M71_441336    12.513663\n",
      "33393       6M71_961   215.796903\n",
      "33394      6M71_1061   844.614238\n",
      "\n",
      "[33395 rows x 2 columns]\n"
     ]
    }
   ],
   "source": [
    "import pandas as pd\n",
    "import math\n",
    "\n",
    "file_name_class_HOH = \"results_HOH_class.txt\"\n",
    "file_name_regr_HOH = \"results_HOH_regr.txt\"\n",
    "file_name_class_NO_HOH = \"results_NO_HOH_class.txt\"\n",
    "file_name_regr_NO_HOH = \"results_NO_HOH_regr.txt\"\n",
    "\n",
    "results_class_HOH = pd.read_csv(file_name_class_HOH, sep=\";\")\n",
    "results_regr_HOH = pd.read_csv(file_name_regr_HOH, sep=\";\")\n",
    "results_class_NO_HOH = pd.read_csv(file_name_class_NO_HOH, sep=\";\")\n",
    "results_regr_NO_HOH = pd.read_csv(file_name_regr_NO_HOH, sep=\";\")\n",
    "\n",
    "\n",
    "results_regr_HOH[\"PRED\"] = results_regr_HOH[\"PRED\"].apply(math.exp)\n",
    "results_regr_NO_HOH[\"PRED\"] = results_regr_NO_HOH[\"PRED\"].apply(math.exp)\n",
    "        \n",
    "print(results_class_HOH)\n",
    "print(results_regr_HOH)\n",
    "print(results_class_NO_HOH)\n",
    "print(results_regr_NO_HOH)"
   ]
  },
  {
   "cell_type": "code",
   "execution_count": 2,
   "id": "julian-reggae",
   "metadata": {},
   "outputs": [
    {
     "name": "stdout",
     "output_type": "stream",
     "text": [
      "TRUE PERCENT:\n",
      "0.10423404000479099\n",
      "0.22590208114987273\n"
     ]
    }
   ],
   "source": [
    "bool_pred_HOH = [int(i >= 0.91) for i in list(results_class_HOH[\"PRED\"])]\n",
    "bool_pred_NO_HOH = [int(i >= 0.91) for i in list(results_class_NO_HOH[\"PRED\"])]\n",
    "\n",
    "print(\"TRUE PERCENT:\")\n",
    "print(sum(bool_pred_HOH)/len(bool_pred_HOH))\n",
    "print(sum(bool_pred_NO_HOH)/len(bool_pred_NO_HOH))"
   ]
  },
  {
   "cell_type": "code",
   "execution_count": 3,
   "id": "difficult-disclosure",
   "metadata": {},
   "outputs": [
    {
     "name": "stdout",
     "output_type": "stream",
     "text": [
      "TRUE PERCENT:\n",
      "0.13468678883698645\n",
      "0.1326545890103309\n"
     ]
    }
   ],
   "source": [
    "bool_pred_HOH = [int(i <= 50) for i in list(results_regr_HOH[\"PRED\"])]\n",
    "bool_pred_NO_HOH = [int(i <= 50) for i in list(results_regr_NO_HOH[\"PRED\"])]\n",
    "\n",
    "print(\"TRUE PERCENT:\")\n",
    "print(sum(bool_pred_HOH)/len(bool_pred_HOH))\n",
    "print(sum(bool_pred_NO_HOH)/len(bool_pred_NO_HOH))"
   ]
  },
  {
   "cell_type": "code",
   "execution_count": 4,
   "id": "satellite-glucose",
   "metadata": {},
   "outputs": [
    {
     "name": "stdout",
     "output_type": "stream",
     "text": [
      "TOP 25 CLASSIFICATION HOH:\n",
      "                NAME      PRED\n",
      "30464     6M71_33675  1.000000\n",
      "21319   6VXX_5288615  1.000000\n",
      "31605   6VXX_6914621  1.000000\n",
      "2823       6VXX_4369  1.000000\n",
      "7781     6VSB_445018  1.000000\n",
      "4025       6M71_4368  1.000000\n",
      "9060    6M71_5289389  1.000000\n",
      "31836      6VXX_2120  1.000000\n",
      "78         6VXX_5111  1.000000\n",
      "3671    6M71_5288615  1.000000\n",
      "13810      6M71_4369  1.000000\n",
      "16451   6VSB_6914621  1.000000\n",
      "29723  6VXX_16129579  1.000000\n",
      "28975  6VXX_16117309  1.000000\n",
      "22268  6VXX_11749858  1.000000\n",
      "906        6VXX_4848  1.000000\n",
      "15881   6VXX_6102708  1.000000\n",
      "19382   6VXX_3342298  1.000000\n",
      "20832      6VSB_5111  1.000000\n",
      "5929   6M71_24768528  1.000000\n",
      "30343    6VSB_466151  1.000000\n",
      "21928   6M71_3342298  1.000000\n",
      "22511    6VXX_179337  1.000000\n",
      "6591   6VXX_11291932  0.999999\n",
      "31903      6M71_5111  0.999999\n"
     ]
    }
   ],
   "source": [
    "results_class_HOH = results_class_HOH.sort_values(by=\"PRED\", ascending=False)\n",
    "print(\"TOP 25 CLASSIFICATION HOH:\")\n",
    "print(results_class_HOH[:25])"
   ]
  },
  {
   "cell_type": "code",
   "execution_count": 5,
   "id": "irish-young",
   "metadata": {},
   "outputs": [
    {
     "name": "stdout",
     "output_type": "stream",
     "text": [
      "TOP 25 CLASSIFICATION NO HOH:\n",
      "               NAME      PRED\n",
      "20850   6VSB_206044  0.999999\n",
      "4153    6LU7_206044  0.999999\n",
      "29199   6M71_206044  0.999998\n",
      "12502   6VXX_206044  0.999997\n",
      "23160    6VSB_10913  0.999996\n",
      "6463     6LU7_10913  0.999994\n",
      "31509    6M71_10913  0.999993\n",
      "14812    6VXX_10913  0.999991\n",
      "11126   6VXX_449124  0.999986\n",
      "27823   6M71_449124  0.999982\n",
      "24039  6VSB_9888484  0.999982\n",
      "28842   6M71_154000  0.999982\n",
      "3796    6LU7_154000  0.999974\n",
      "15691  6VXX_9888484  0.999972\n",
      "25026  6VSB_5464097  0.999971\n",
      "29637  6M71_6914621  0.999966\n",
      "17214  6VSB_5362119  0.999965\n",
      "30356  6M71_5288615  0.999960\n",
      "30423     6M71_3815  0.999958\n",
      "20493   6VSB_154000  0.999952\n",
      "18558   6VSB_447522  0.999949\n",
      "21288  6VSB_6914621  0.999947\n",
      "7342   6LU7_9888484  0.999940\n",
      "26907   6M71_447522  0.999938\n",
      "9005    6VXX_656629  0.999935\n"
     ]
    }
   ],
   "source": [
    "results_class_NO_HOH = results_class_NO_HOH.sort_values(by=\"PRED\", ascending=False)\n",
    "print(\"TOP 25 CLASSIFICATION NO HOH:\")\n",
    "print(results_class_NO_HOH[:25])"
   ]
  },
  {
   "cell_type": "code",
   "execution_count": 6,
   "id": "close-explanation",
   "metadata": {},
   "outputs": [
    {
     "name": "stdout",
     "output_type": "stream",
     "text": [
      "TOP 25 REGRESSION HOH:\n",
      "                 NAME      PRED\n",
      "26097      6VSB_36294  0.031975\n",
      "24421       6VSB_6032  0.034128\n",
      "16479    6VSB_3037209  0.045046\n",
      "10392     6VXX_446724  0.055385\n",
      "29950       6VSB_6131  0.058564\n",
      "33170     6VXX_440483  0.060164\n",
      "22445      6LU7_68682  0.070776\n",
      "7501        6LU7_9444  0.077661\n",
      "26639     6VSB_657041  0.080403\n",
      "29501     6VXX_439318  0.081639\n",
      "25067       6LU7_6032  0.084980\n",
      "30992    6VSB_5289086  0.085724\n",
      "30872     6VXX_447657  0.117607\n",
      "24025      6VXX_68682  0.119587\n",
      "32344  6M71_129856752  0.119924\n",
      "17938     6VXX_448726  0.141589\n",
      "16182      6M71_31264  0.149456\n",
      "15059      6VSB_65309  0.171162\n",
      "10507      6VXX_60855  0.175056\n",
      "21191      6M71_65309  0.176845\n",
      "12690     6M71_445534  0.178723\n",
      "18039      6VXX_72392  0.181849\n",
      "16980      6VSB_68682  0.183409\n",
      "4055     6VXX_5288994  0.185591\n",
      "26988   6VSB_12803287  0.186071\n"
     ]
    }
   ],
   "source": [
    "results_regr_HOH = results_regr_HOH.sort_values(by=\"PRED\", ascending=True)\n",
    "print(\"TOP 25 REGRESSION HOH:\")\n",
    "print(results_regr_HOH[:25])"
   ]
  },
  {
   "cell_type": "code",
   "execution_count": 7,
   "id": "material-thursday",
   "metadata": {},
   "outputs": [
    {
     "name": "stdout",
     "output_type": "stream",
     "text": [
      "TOP 25 REGRESSION NO HOH:\n",
      "                NAME      PRED\n",
      "17264    6VSB_119031  0.692481\n",
      "8916     6VXX_119031  0.729945\n",
      "22867  6VSB_20055267  0.787674\n",
      "25047     6M71_91443  0.833199\n",
      "4023     6LU7_130731  0.888012\n",
      "10789    6VXX_447271  1.055850\n",
      "25613    6M71_119031  1.184784\n",
      "28424    6M71_119055  1.284245\n",
      "8350      6VXX_91443  1.545305\n",
      "20507   6VSB_9831652  1.631738\n",
      "3810    6LU7_9831652  1.666033\n",
      "1528      6LU7_98792  1.677029\n",
      "29361   6M71_3037981  1.690422\n",
      "216       6LU7_44257  1.698163\n",
      "20720    6VSB_130731  1.703516\n",
      "14519  6VXX_20055267  1.710270\n",
      "23832    6VSB_447268  1.933415\n",
      "21012   6VSB_3037981  2.005775\n",
      "23077      6VSB_5611  2.106167\n",
      "27024   6M71_5288251  2.170672\n",
      "21646   6VSB_6323250  2.192747\n",
      "23815  6VSB_11376392  2.254511\n",
      "27005    6M71_656989  2.280820\n",
      "1959     6LU7_656989  2.281667\n",
      "11745     6VXX_65074  2.302720\n",
      "1         6LU7_91443  2.352969\n",
      "23507    6VSB_176873  2.370022\n",
      "27486    6M71_447271  2.405425\n",
      "29069    6M71_130731  2.406105\n",
      "28442     6M71_65074  2.435753\n",
      "32164  6M71_11376392  2.438932\n",
      "16738      6VSB_6037  2.452244\n",
      "10327   6VXX_5288251  2.485162\n",
      "2777     6LU7_449124  2.497617\n",
      "19474    6VSB_449124  2.551497\n",
      "1601     6LU7_154044  2.565571\n",
      "31147   6M71_9854489  2.593482\n",
      "13623    6VXX_128564  2.616467\n",
      "2440     6LU7_447271  2.619854\n",
      "20008    6VSB_443600  2.638544\n",
      "3345     6LU7_449123  2.716675\n",
      "6170   6LU7_20055267  2.731277\n",
      "1978    6LU7_5288251  2.771686\n",
      "31216  6M71_20055267  2.789575\n",
      "10119    6VXX_446201  2.848963\n",
      "567      6LU7_119031  2.851272\n",
      "18393    6VSB_444498  2.883828\n",
      "19330   6VSB_6398414  2.889854\n",
      "12159   6VXX_9831652  2.938429\n",
      "23219    6VSB_456389  2.968825\n"
     ]
    }
   ],
   "source": [
    "results_regr_NO_HOH = results_regr_NO_HOH.sort_values(by=\"PRED\", ascending=True)\n",
    "print(\"TOP 25 REGRESSION NO HOH:\")\n",
    "print(results_regr_NO_HOH[:50])"
   ]
  },
  {
   "cell_type": "code",
   "execution_count": 8,
   "id": "sustainable-challenge",
   "metadata": {},
   "outputs": [
    {
     "name": "stdout",
     "output_type": "stream",
     "text": [
      "MATCHING RESULTS IN THE TOP 1000 HOH:\n",
      "6VSB_20055267\n",
      "6VSB_3037981\n",
      "6VXX_3037981\n",
      "6VXX_443600\n",
      "6M71_3037981\n",
      "6M71_176873\n",
      "6M71_20055267\n",
      "6VSB_176873\n",
      "6VSB_9543420\n",
      "6VXX_20055267\n",
      "6LU7_20055267\n",
      "6VXX_449123\n",
      "6VSB_466151\n",
      "6VXX_449124\n",
      "6VSB_449123\n",
      "6VXX_176873\n",
      "6VSB_160024\n",
      "6VXX_466151\n",
      "6M71_449124\n",
      "6VSB_11143173\n",
      "6VXX_10379137\n",
      "6M71_123982\n",
      "6VSB_123982\n",
      "6VSB_5362422\n",
      "6VXX_5362422\n",
      "6M71_135548\n",
      "6M71_9543420\n",
      "6VXX_9543420\n",
      "6VSB_17754173\n",
      "6VSB_15547703\n",
      "6M71_5464096\n",
      "6VSB_10379137\n",
      "6M71_11143173\n",
      "6M71_656629\n",
      "6VSB_446504\n",
      "6M71_42609673\n",
      "6VXX_5288615\n",
      "6M71_5288032\n",
      "6M71_5288615\n",
      "6VXX_5287415\n",
      "6M71_17754173\n",
      "6VXX_443289\n"
     ]
    }
   ],
   "source": [
    "top = 1000\n",
    "\n",
    "print(\"MATCHING RESULTS IN THE TOP \" + str(top) + \" HOH:\")\n",
    "\n",
    "list_results_class_HOH = list(results_class_HOH[:top][\"NAME\"])\n",
    "list_results_regr_HOH = list(results_regr_HOH[:top][\"NAME\"])\n",
    "\n",
    "for i in list_results_regr_HOH:\n",
    "    if i in list_results_class_HOH:\n",
    "        print(i)"
   ]
  }
 ],
 "metadata": {
  "kernelspec": {
   "display_name": "Python 3",
   "language": "python",
   "name": "python3"
  },
  "language_info": {
   "codemirror_mode": {
    "name": "ipython",
    "version": 3
   },
   "file_extension": ".py",
   "mimetype": "text/x-python",
   "name": "python",
   "nbconvert_exporter": "python",
   "pygments_lexer": "ipython3",
   "version": "3.8.5"
  }
 },
 "nbformat": 4,
 "nbformat_minor": 5
}
