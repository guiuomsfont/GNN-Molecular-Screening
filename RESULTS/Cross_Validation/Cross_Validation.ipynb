{
 "cells": [
  {
   "cell_type": "code",
   "execution_count": 1,
   "id": "eastern-cylinder",
   "metadata": {},
   "outputs": [],
   "source": [
    "import pandas as pd\n",
    "import math\n",
    "\n",
    "CV_0 = [0.093, 0.102, 0.994, 0.948, 0.965, 0.833, 473888, 19097, 15102, 479855, 306021, 8058, 2968, 6647]\n",
    "CV_1 = [0.069, 0.13, 0.997, 0.885, 0.975, 0.75, 485892, 14099, 10608, 488321, 295548, 8881, 3905, 4382]\n",
    "CV_2 = [0.086, 0.09, 0.995, 0.946, 0.969, 0.844, 473201, 17702, 13064, 476195, 315229, 7052, 2661, 6532] \n",
    "CV_3 = [0.1, 0.092, 0.993, 0.963, 0.963, 0.861, 463978, 19954, 15720, 468232, 324852, 9136, 2447, 7317]"
   ]
  },
  {
   "cell_type": "code",
   "execution_count": 2,
   "id": "human-section",
   "metadata": {},
   "outputs": [
    {
     "name": "stdout",
     "output_type": "stream",
     "text": [
      "[0.087, 0.10349999999999998, 0.99475, 0.9355, 0.968, 0.8220000000000001, 474239.75, 17713.0, 13623.5, 478150.75, 310412.5, 8281.75, 2995.25, 6219.5]\n"
     ]
    }
   ],
   "source": [
    "CV_MEAN = []\n",
    "\n",
    "for i in range(len(CV_0)):\n",
    "    CV_MEAN.append((CV_0[i] + CV_1[i] + CV_2[i] + CV_3[i])/4)\n",
    "\n",
    "print(CV_MEAN)"
   ]
  }
 ],
 "metadata": {
  "kernelspec": {
   "display_name": "Python 3",
   "language": "python",
   "name": "python3"
  },
  "language_info": {
   "codemirror_mode": {
    "name": "ipython",
    "version": 3
   },
   "file_extension": ".py",
   "mimetype": "text/x-python",
   "name": "python",
   "nbconvert_exporter": "python",
   "pygments_lexer": "ipython3",
   "version": "3.8.5"
  }
 },
 "nbformat": 4,
 "nbformat_minor": 5
}
