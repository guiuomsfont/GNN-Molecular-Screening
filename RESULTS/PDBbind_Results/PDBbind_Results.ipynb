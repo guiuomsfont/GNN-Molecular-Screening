{
 "cells": [
  {
   "cell_type": "code",
   "execution_count": 1,
   "id": "breathing-boxing",
   "metadata": {},
   "outputs": [
    {
     "name": "stdout",
     "output_type": "stream",
     "text": [
      "                   NAME      PRED\n",
      "0      1m5d_1m5d_ligand  0.067100\n",
      "1      5d1u_5d1u_ligand  0.993225\n",
      "2      3m55_3m55_ligand  0.764764\n",
      "3      1nfs_1nfs_ligand  0.000845\n",
      "4      6htz_6htz_ligand  0.992595\n",
      "...                 ...       ...\n",
      "13868  6gcx_6gcx_ligand  0.884723\n",
      "13869  2wd3_2wd3_ligand  0.205424\n",
      "13870  5i3m_5i3m_ligand  0.012650\n",
      "13871  3da6_3da6_ligand  0.960437\n",
      "13872  3ewz_3ewz_ligand  0.000000\n",
      "\n",
      "[13873 rows x 2 columns]\n",
      "                   NAME           PRED\n",
      "0      1m5d_1m5d_ligand  803027.308142\n",
      "1      5d1u_5d1u_ligand       6.808350\n",
      "2      3m55_3m55_ligand      62.019422\n",
      "3      1nfs_1nfs_ligand     352.509475\n",
      "4      6htz_6htz_ligand      89.971558\n",
      "...                 ...            ...\n",
      "13868  6gcx_6gcx_ligand       4.327423\n",
      "13869  2wd3_2wd3_ligand    1223.087893\n",
      "13870  5i3m_5i3m_ligand     491.271535\n",
      "13871  3da6_3da6_ligand      41.734374\n",
      "13872  3ewz_3ewz_ligand  664704.593073\n",
      "\n",
      "[13873 rows x 2 columns]\n",
      "                   NAME      PRED\n",
      "0      3lq8_3lq8_ligand  0.999651\n",
      "1      2xvn_2xvn_ligand  0.000048\n",
      "2      5f39_5f39_ligand  0.586297\n",
      "3      6nzf_6nzf_ligand  0.966939\n",
      "4      1pxk_1pxk_ligand  0.238501\n",
      "...                 ...       ...\n",
      "13990  6cfd_6cfd_ligand  0.998885\n",
      "13991  6rni_6rni_ligand  0.811124\n",
      "13992  1yms_1yms_ligand  0.946473\n",
      "13993  6czu_6czu_ligand  0.653724\n",
      "13994  5q0v_5q0v_ligand  0.479057\n",
      "\n",
      "[13995 rows x 2 columns]\n",
      "                   NAME           PRED\n",
      "0      3lq8_3lq8_ligand     167.003739\n",
      "1      2xvn_2xvn_ligand   11013.647890\n",
      "2      5f39_5f39_ligand  638350.637553\n",
      "3      6nzf_6nzf_ligand      52.734321\n",
      "4      1pxk_1pxk_ligand  475497.545966\n",
      "...                 ...            ...\n",
      "13990  6cfd_6cfd_ligand      10.633522\n",
      "13991  6rni_6rni_ligand     296.296902\n",
      "13992  1yms_1yms_ligand  667129.193804\n",
      "13993  6czu_6czu_ligand  131003.065150\n",
      "13994  5q0v_5q0v_ligand  584023.791587\n",
      "\n",
      "[13995 rows x 2 columns]\n"
     ]
    }
   ],
   "source": [
    "import pandas as pd\n",
    "import math\n",
    "\n",
    "file_name_class_HOH = \"results_HOH_class.txt\"\n",
    "file_name_regr_HOH = \"results_HOH_regr.txt\"\n",
    "file_name_class_NO_HOH = \"results_NO_HOH_class.txt\"\n",
    "file_name_regr_NO_HOH = \"results_NO_HOH_regr.txt\"\n",
    "\n",
    "results_class_HOH = pd.read_csv(file_name_class_HOH, sep=\";\")\n",
    "results_regr_HOH = pd.read_csv(file_name_regr_HOH, sep=\";\")\n",
    "results_class_NO_HOH = pd.read_csv(file_name_class_NO_HOH, sep=\";\")\n",
    "results_regr_NO_HOH = pd.read_csv(file_name_regr_NO_HOH, sep=\";\")\n",
    "\n",
    "\n",
    "results_regr_HOH[\"PRED\"] = results_regr_HOH[\"PRED\"].apply(math.exp)\n",
    "results_regr_NO_HOH[\"PRED\"] = results_regr_NO_HOH[\"PRED\"].apply(math.exp)\n",
    "        \n",
    "print(results_class_HOH)\n",
    "print(results_regr_HOH)\n",
    "print(results_class_NO_HOH)\n",
    "print(results_regr_NO_HOH)"
   ]
  },
  {
   "cell_type": "code",
   "execution_count": 2,
   "id": "approximate-proportion",
   "metadata": {},
   "outputs": [
    {
     "name": "stdout",
     "output_type": "stream",
     "text": [
      "TRUE PERCENT:\n",
      "HOH_thresh91 0.2152382325380235\n",
      "NO_HOH_thresh91 0.3818506609503394\n",
      "HOH_thresh50 0.3452029121314784\n",
      "NO_HOH_thresh50 0.6050732404430154\n"
     ]
    }
   ],
   "source": [
    "bool_pred_HOH_91 = [int(i >= 0.91) for i in list(results_class_HOH[\"PRED\"])]\n",
    "bool_pred_NO_HOH_91 = [int(i >= 0.91) for i in list(results_class_NO_HOH[\"PRED\"])]\n",
    "bool_pred_HOH_50 = [int(i >= 0.5) for i in list(results_class_HOH[\"PRED\"])]\n",
    "bool_pred_NO_HOH_50 = [int(i >= 0.5) for i in list(results_class_NO_HOH[\"PRED\"])]\n",
    "\n",
    "print(\"TRUE PERCENT:\")\n",
    "print(\"HOH_thresh91\",sum(bool_pred_HOH_91)/len(bool_pred_HOH_91))\n",
    "print(\"NO_HOH_thresh91\",sum(bool_pred_NO_HOH_91)/len(bool_pred_NO_HOH_91))\n",
    "print(\"HOH_thresh50\",sum(bool_pred_HOH_50)/len(bool_pred_HOH_50))\n",
    "print(\"NO_HOH_thresh50\",sum(bool_pred_NO_HOH_50)/len(bool_pred_NO_HOH_50))"
   ]
  },
  {
   "cell_type": "code",
   "execution_count": 3,
   "id": "smaller-mayor",
   "metadata": {},
   "outputs": [
    {
     "name": "stdout",
     "output_type": "stream",
     "text": [
      "TRUE PERCENT:\n",
      "0.499603546457147\n",
      "0.5964272954626653\n"
     ]
    }
   ],
   "source": [
    "bool_pred_HOH = [int(i <= 5000) for i in list(results_regr_HOH[\"PRED\"])]\n",
    "bool_pred_NO_HOH = [int(i <= 5000) for i in list(results_regr_NO_HOH[\"PRED\"])]\n",
    "\n",
    "print(\"TRUE PERCENT:\")\n",
    "print(sum(bool_pred_HOH)/len(bool_pred_HOH))\n",
    "print(sum(bool_pred_NO_HOH)/len(bool_pred_NO_HOH))"
   ]
  }
 ],
 "metadata": {
  "kernelspec": {
   "display_name": "Python 3",
   "language": "python",
   "name": "python3"
  },
  "language_info": {
   "codemirror_mode": {
    "name": "ipython",
    "version": 3
   },
   "file_extension": ".py",
   "mimetype": "text/x-python",
   "name": "python",
   "nbconvert_exporter": "python",
   "pygments_lexer": "ipython3",
   "version": "3.8.5"
  }
 },
 "nbformat": 4,
 "nbformat_minor": 5
}
