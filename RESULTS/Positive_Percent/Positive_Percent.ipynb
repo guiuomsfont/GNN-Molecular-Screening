{
 "cells": [
  {
   "cell_type": "code",
   "execution_count": 1,
   "id": "governing-thirty",
   "metadata": {},
   "outputs": [
    {
     "name": "stdout",
     "output_type": "stream",
     "text": [
      "                       NAME  PRED\n",
      "126954   ada17_CHEMBL342870   1.0\n",
      "237717   ada17_CHEMBL137365   1.0\n",
      "117369   ada17_CHEMBL402992   1.0\n",
      "26266    ada17_CHEMBL341380   1.0\n",
      "267906  ada17_CHEMBL184782I   1.0\n",
      "...                     ...   ...\n",
      "233814   hivpr_ZINC31484140   0.0\n",
      "182337   ada17_ZINC09427385   0.0\n",
      "119577   hivpr_ZINC09353913   0.0\n",
      "77794    hivpr_ZINC15817554   0.0\n",
      "57992      met_ZINC09953084   0.0\n",
      "\n",
      "[268799 rows x 2 columns]\n",
      "                          NAME          PRED\n",
      "131434    tysy_CHEMBL37062IIII  2.323400e-05\n",
      "107470   tysy_CHEMBL37062IIIII  3.841210e-05\n",
      "246211  tysy_CHEMBL37062IIIIII  3.939132e-05\n",
      "127961       tysy_CHEMBL37062I  4.032947e-05\n",
      "222479      dyr_CHEMBL36639III  4.578244e-05\n",
      "...                        ...           ...\n",
      "255042       try1_ZINC22576472  1.304188e+06\n",
      "30197        try1_ZINC22576466  1.307129e+06\n",
      "58287        try1_ZINC22576485  1.308650e+06\n",
      "87322        try1_ZINC00758002  1.316221e+06\n",
      "58092        try1_ZINC19330112  1.560711e+06\n",
      "\n",
      "[268799 rows x 2 columns]\n"
     ]
    }
   ],
   "source": [
    "import pandas as pd\n",
    "import math\n",
    "\n",
    "rf_count = 1019\n",
    "\n",
    "file_name_class = \"results_class.txt\"\n",
    "file_name_regr = \"results_regr.txt\"\n",
    "\n",
    "results_class = pd.read_csv(file_name_class, sep=\";\")\n",
    "results_regr = pd.read_csv(file_name_regr, sep=\";\")\n",
    "\n",
    "results_regr[\"PRED\"] = results_regr[\"PRED\"].apply(math.exp)\n",
    "\n",
    "results_class = results_class.sort_values(by=\"PRED\", ascending=False)\n",
    "results_regr = results_regr.sort_values(by=\"PRED\", ascending=True)\n",
    "        \n",
    "print(results_class)\n",
    "print(results_regr)"
   ]
  },
  {
   "cell_type": "code",
   "execution_count": 2,
   "id": "accepting-divide",
   "metadata": {},
   "outputs": [],
   "source": [
    "pos_len = len(results_class[results_class.NAME.str.contains('CHEMBL')])\n",
    "\n",
    "count_class = 0\n",
    "count_regr = 0\n",
    "\n",
    "for i in results_class[\"NAME\"][:pos_len]:\n",
    "    if \"CHEMBL\" in i:\n",
    "        count_class += 1\n",
    "\n",
    "for i in results_regr[\"NAME\"][:pos_len]:\n",
    "    if \"CHEMBL\" in i:\n",
    "        count_regr += 1"
   ]
  },
  {
   "cell_type": "code",
   "execution_count": 3,
   "id": "passive-terminology",
   "metadata": {},
   "outputs": [
    {
     "name": "stdout",
     "output_type": "stream",
     "text": [
      "RF-score: 1019/7929\n",
      "Class: 7228/7929\n",
      "Regr: 6087/7929\n",
      "\n",
      "\n",
      "Class improvement: 709.323%\n",
      "Regr improvement: 597.35%\n"
     ]
    }
   ],
   "source": [
    "\n",
    "print(\"RF-score: \" + str(rf_count) + \"/\" + str(pos_len))\n",
    "print(\"Class: \" + str(count_class) + \"/\" + str(pos_len))\n",
    "print(\"Regr: \" + str(count_regr) + \"/\" + str(pos_len))\n",
    "print(\"\\n\")\n",
    "print(\"Class improvement: \" + str(round(((count_class/rf_count)*100), 3)) + \"%\")\n",
    "print(\"Regr improvement: \" + str(round(((count_regr/rf_count)*100), 3)) + \"%\")"
   ]
  }
 ],
 "metadata": {
  "kernelspec": {
   "display_name": "Python 3",
   "language": "python",
   "name": "python3"
  },
  "language_info": {
   "codemirror_mode": {
    "name": "ipython",
    "version": 3
   },
   "file_extension": ".py",
   "mimetype": "text/x-python",
   "name": "python",
   "nbconvert_exporter": "python",
   "pygments_lexer": "ipython3",
   "version": "3.8.5"
  }
 },
 "nbformat": 4,
 "nbformat_minor": 5
}
