{
 "cells": [
  {
   "cell_type": "code",
   "execution_count": 1,
   "id": "entire-worship",
   "metadata": {},
   "outputs": [
    {
     "name": "stdout",
     "output_type": "stream",
     "text": [
      "[4.52449749e-04 1.70413265e-03 6.12327858e-05 ... 1.01844635e-04\n",
      " 2.93681398e-03 5.67867840e-03]\n",
      "[0. 0. 0. ... 0. 0. 0.]\n"
     ]
    }
   ],
   "source": [
    "import pickle \n",
    "import numpy as np\n",
    "from sklearn.metrics import f1_score, confusion_matrix\n",
    "import matplotlib.pyplot as plt\n",
    "\n",
    "file_name = \"save_predictions.pkl\"\n",
    "\n",
    "with open(file_name, \"rb\") as fp:\n",
    "        predictions, targets = pickle.load(fp)\n",
    "        \n",
    "print(predictions)\n",
    "print(targets)"
   ]
  },
  {
   "cell_type": "code",
   "execution_count": 2,
   "id": "leading-reproduction",
   "metadata": {
    "scrolled": true
   },
   "outputs": [
    {
     "name": "stdout",
     "output_type": "stream",
     "text": [
      "0.0\n",
      "0.01\n",
      "0.02\n",
      "0.03\n",
      "0.04\n",
      "0.05\n",
      "0.06\n",
      "0.07\n",
      "0.08\n",
      "0.09\n",
      "0.1\n",
      "0.11\n",
      "0.12\n",
      "0.13\n",
      "0.14\n",
      "0.15\n",
      "0.16\n",
      "0.17\n",
      "0.18\n",
      "0.19\n",
      "0.2\n",
      "0.21\n",
      "0.22\n",
      "0.23\n",
      "0.24\n",
      "0.25\n",
      "0.26\n",
      "0.27\n",
      "0.28\n",
      "0.29\n",
      "0.3\n",
      "0.31\n",
      "0.32\n",
      "0.33\n",
      "0.34\n",
      "0.35000000000000003\n",
      "0.36\n",
      "0.37\n",
      "0.38\n",
      "0.39\n",
      "0.4\n",
      "0.41000000000000003\n",
      "0.42\n",
      "0.43\n",
      "0.44\n",
      "0.45\n",
      "0.46\n",
      "0.47000000000000003\n",
      "0.48\n",
      "0.49\n",
      "0.5\n",
      "0.51\n",
      "0.52\n",
      "0.53\n",
      "0.54\n",
      "0.55\n",
      "0.56\n",
      "0.5700000000000001\n",
      "0.58\n",
      "0.59\n",
      "0.6\n",
      "0.61\n",
      "0.62\n",
      "0.63\n",
      "0.64\n",
      "0.65\n",
      "0.66\n",
      "0.67\n",
      "0.68\n",
      "0.6900000000000001\n",
      "0.7000000000000001\n",
      "0.71\n",
      "0.72\n",
      "0.73\n",
      "0.74\n",
      "0.75\n",
      "0.76\n",
      "0.77\n",
      "0.78\n",
      "0.79\n",
      "0.8\n",
      "0.81\n",
      "0.8200000000000001\n",
      "0.8300000000000001\n",
      "0.84\n",
      "0.85\n",
      "0.86\n",
      "0.87\n",
      "0.88\n",
      "0.89\n",
      "0.9\n",
      "0.91\n",
      "0.92\n",
      "0.93\n",
      "0.9400000000000001\n",
      "0.9500000000000001\n",
      "0.96\n",
      "0.97\n",
      "0.98\n",
      "0.99\n"
     ]
    }
   ],
   "source": [
    "thresh_list = []\n",
    "f1_list = []\n",
    "max_f1 = -1\n",
    "max_thresh_f1 = -1\n",
    "percent_list = []\n",
    "max_percent = -1\n",
    "max_thresh_percent = -1\n",
    "for j in np.arange(0.0, 1.0, 0.01):\n",
    "    print(j)\n",
    "    bool_predictions = [int(i >= j) for i in predictions]\n",
    "    f1 = f1_score(targets, bool_predictions)\n",
    "    f1_list.append(f1)\n",
    "    thresh_list.append(j)\n",
    "    \n",
    "    if max_f1 <= f1:\n",
    "        max_f1 = f1\n",
    "        max_thresh_f1 = j\n",
    "        \n",
    "    \n",
    "    \n",
    "    tn, fp, fn, tp = confusion_matrix(targets, bool_predictions).ravel()\n",
    "    percent = (tp / (tp + fp))\n",
    "    percent_list.append(percent)\n",
    "    \n",
    "    if max_percent <= percent:\n",
    "        max_percent = percent\n",
    "        max_thresh_percent = j\n"
   ]
  },
  {
   "cell_type": "code",
   "execution_count": 3,
   "id": "found-michael",
   "metadata": {},
   "outputs": [
    {
     "data": {
      "image/png": "[encoded data removed]",
      "text/plain": [
       "<Figure size 432x288 with 1 Axes>"
      ]
     },
     "metadata": {
      "needs_background": "light"
     },
     "output_type": "display_data"
    }
   ],
   "source": [
    "plt.plot(thresh_list, f1_list)\n",
    "plt.xlabel('Threshold')\n",
    "plt.ylabel('F1')\n",
    "plt.show()"
   ]
  },
  {
   "cell_type": "code",
   "execution_count": 4,
   "id": "gorgeous-basis",
   "metadata": {},
   "outputs": [
    {
     "data": {
      "image/png": "[encoded data removed]",
      "text/plain": [
       "<Figure size 432x288 with 1 Axes>"
      ]
     },
     "metadata": {
      "needs_background": "light"
     },
     "output_type": "display_data"
    }
   ],
   "source": [
    "plt.plot(thresh_list, percent_list)\n",
    "plt.xlabel('Threshold')\n",
    "plt.ylabel('TP Percent')\n",
    "plt.show()"
   ]
  },
  {
   "cell_type": "code",
   "execution_count": 5,
   "id": "important-stephen",
   "metadata": {},
   "outputs": [
    {
     "data": {
      "image/png": "[encoded data removed]",
      "text/plain": [
       "<Figure size 432x288 with 1 Axes>"
      ]
     },
     "metadata": {
      "needs_background": "light"
     },
     "output_type": "display_data"
    }
   ],
   "source": [
    "true_pred_targ = []\n",
    "for i in range(len(predictions)):\n",
    "    if targets[i] == 1.0:\n",
    "        true_pred_targ.append(predictions[i])\n",
    "        \n",
    "plt.hist(true_pred_targ, bins = 20)\n",
    "plt.show()"
   ]
  },
  {
   "cell_type": "code",
   "execution_count": 6,
   "id": "limiting-eleven",
   "metadata": {},
   "outputs": [
    {
     "name": "stdout",
     "output_type": "stream",
     "text": [
      "Best f1 achieved: 0.5829621380846326 - at threshold: 0.91\n",
      "Best percent achieved: 0.9221846302561624 - at threshold: 0.99\n"
     ]
    }
   ],
   "source": [
    "print(\"Best f1 achieved: \" + str(max_f1) + \" - at threshold: \" + str(max_thresh_f1))\n",
    "print(\"Best percent achieved: \" + str(max_percent) + \" - at threshold: \" + str(max_thresh_percent))"
   ]
  },
  {
   "cell_type": "code",
   "execution_count": 7,
   "id": "appropriate-anaheim",
   "metadata": {},
   "outputs": [
    {
     "name": "stdout",
     "output_type": "stream",
     "text": [
      "TOP 100: [predicted, target]\n",
      "[0.9999976, 1.0]\n",
      "[0.9999974, 1.0]\n",
      "[0.99999726, 1.0]\n",
      "[0.9999968, 1.0]\n",
      "[0.99999666, 1.0]\n",
      "[0.99999607, 1.0]\n",
      "[0.99999595, 1.0]\n",
      "[0.9999951, 1.0]\n",
      "[0.9999949, 1.0]\n",
      "[0.9999944, 1.0]\n",
      "[0.99999404, 1.0]\n",
      "[0.9999939, 1.0]\n",
      "[0.99999344, 1.0]\n",
      "[0.9999931, 1.0]\n",
      "[0.99999285, 1.0]\n",
      "[0.99999285, 1.0]\n",
      "[0.9999926, 1.0]\n",
      "[0.999992, 1.0]\n",
      "[0.999992, 1.0]\n",
      "[0.9999919, 1.0]\n",
      "[0.9999918, 1.0]\n",
      "[0.99999166, 1.0]\n",
      "[0.99999034, 1.0]\n",
      "[0.9999902, 1.0]\n",
      "[0.99998987, 1.0]\n",
      "[0.9999896, 1.0]\n",
      "[0.9999895, 1.0]\n",
      "[0.9999893, 1.0]\n",
      "[0.9999888, 1.0]\n",
      "[0.9999881, 1.0]\n",
      "[0.9999877, 1.0]\n",
      "[0.9999877, 1.0]\n",
      "[0.9999876, 1.0]\n",
      "[0.9999876, 1.0]\n",
      "[0.99998736, 1.0]\n",
      "[0.9999869, 1.0]\n",
      "[0.99998677, 1.0]\n",
      "[0.9999863, 1.0]\n",
      "[0.9999863, 1.0]\n",
      "[0.9999858, 1.0]\n",
      "[0.9999858, 1.0]\n",
      "[0.99998546, 1.0]\n",
      "[0.9999852, 1.0]\n",
      "[0.999985, 1.0]\n",
      "[0.9999845, 1.0]\n",
      "[0.9999844, 1.0]\n",
      "[0.999984, 1.0]\n",
      "[0.9999838, 1.0]\n",
      "[0.99998343, 1.0]\n",
      "[0.9999832, 1.0]\n",
      "[0.9999831, 1.0]\n",
      "[0.99998295, 1.0]\n",
      "[0.99998295, 1.0]\n",
      "[0.9999825, 1.0]\n",
      "[0.99998224, 1.0]\n",
      "[0.9999813, 1.0]\n",
      "[0.9999808, 1.0]\n",
      "[0.9999807, 1.0]\n",
      "[0.9999807, 1.0]\n",
      "[0.99998045, 1.0]\n",
      "[0.9999801, 1.0]\n",
      "[0.99997985, 1.0]\n",
      "[0.99997914, 1.0]\n",
      "[0.99997866, 1.0]\n",
      "[0.9999777, 1.0]\n",
      "[0.99997675, 1.0]\n",
      "[0.99997663, 1.0]\n",
      "[0.9999765, 1.0]\n",
      "[0.99997616, 1.0]\n",
      "[0.99997616, 1.0]\n",
      "[0.99997616, 1.0]\n",
      "[0.9999758, 1.0]\n",
      "[0.9999758, 1.0]\n",
      "[0.9999757, 1.0]\n",
      "[0.9999753, 1.0]\n",
      "[0.9999746, 1.0]\n",
      "[0.9999746, 1.0]\n",
      "[0.99997294, 1.0]\n",
      "[0.999972, 1.0]\n",
      "[0.99997187, 1.0]\n",
      "[0.99997175, 1.0]\n",
      "[0.9999714, 1.0]\n",
      "[0.9999713, 1.0]\n",
      "[0.9999713, 1.0]\n",
      "[0.9999713, 1.0]\n",
      "[0.9999708, 1.0]\n",
      "[0.99997056, 1.0]\n",
      "[0.9999695, 1.0]\n",
      "[0.9999684, 1.0]\n",
      "[0.9999677, 1.0]\n",
      "[0.9999672, 1.0]\n",
      "[0.99996614, 1.0]\n",
      "[0.9999646, 1.0]\n",
      "[0.9999646, 1.0]\n",
      "[0.9999641, 1.0]\n",
      "[0.999964, 1.0]\n",
      "[0.999964, 1.0]\n",
      "[0.99996316, 1.0]\n",
      "[0.9999622, 1.0]\n",
      "[0.99996173, 1.0]\n"
     ]
    }
   ],
   "source": [
    "def sort_key(order):\n",
    "    return order[0]\n",
    "\n",
    "pairs_sort = []\n",
    "for i in range(len(predictions)):\n",
    "    pairs_sort.append([predictions[i], targets[i]])\n",
    "    \n",
    "    \n",
    "print(\"TOP 100: [predicted, target]\")\n",
    "\n",
    "pairs_sort.sort(key=sort_key, reverse=True)\n",
    "\n",
    "for i in pairs_sort[:100]:\n",
    "    print(i)"
   ]
  }
 ],
 "metadata": {
  "kernelspec": {
   "display_name": "Python 3",
   "language": "python",
   "name": "python3"
  },
  "language_info": {
   "codemirror_mode": {
    "name": "ipython",
    "version": 3
   },
   "file_extension": ".py",
   "mimetype": "text/x-python",
   "name": "python",
   "nbconvert_exporter": "python",
   "pygments_lexer": "ipython3",
   "version": "3.8.5"
  }
 },
 "nbformat": 4,
 "nbformat_minor": 5
}
